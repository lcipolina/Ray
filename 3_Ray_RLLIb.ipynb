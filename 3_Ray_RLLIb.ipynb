{
  "nbformat": 4,
  "nbformat_minor": 0,
  "metadata": {
    "colab": {
      "name": "3-Ray-RLLIb.ipynb",
      "provenance": [],
      "authorship_tag": "ABX9TyNXh48QXEDFlUoJySJYO22e",
      "include_colab_link": true
    },
    "kernelspec": {
      "name": "python3",
      "display_name": "Python 3"
    },
    "language_info": {
      "name": "python"
    }
  },
  "cells": [
    {
      "cell_type": "markdown",
      "metadata": {
        "id": "view-in-github",
        "colab_type": "text"
      },
      "source": [
        "<a href=\"https://colab.research.google.com/github/lcipolina/Ray/blob/main/3_Ray_RLLIb.ipynb\" target=\"_parent\"><img src=\"https://colab.research.google.com/assets/colab-badge.svg\" alt=\"Open In Colab\"/></a>"
      ]
    },
    {
      "cell_type": "markdown",
      "metadata": {
        "id": "4ZMwliNct0Iq"
      },
      "source": [
        "# Simple Demo of Ray's RLLib\n",
        "\n",
        "We show how to train a reinforcement learning environment that has been built on top of OpenAI Gym using Ray and RLlib."
      ]
    },
    {
      "cell_type": "markdown",
      "metadata": {
        "id": "Xdp_8bRxuCtb"
      },
      "source": [
        "Ray Resources\n",
        "\n",
        "Video Tutorials\n",
        "https://www.youtube.com/watch?v=Zy_AuL7xLpk&list=PLzTswPQNepXk44l2ElLcxzNTRrlrR95ud\n",
        "\n",
        "https://medium.com/distributed-computing-with-ray/intro-to-rllib-example-environments-3a113f532c70\n",
        "\n",
        "https://opendatascience.com/reinforcement-learning-with-ray-rllib/\n",
        "\n",
        "https://towardsdatascience.com/ray-and-rllib-for-fast-and-parallel-reinforcement-learning-6d31ee21c96c\n",
        "\n",
        "https://github.com/anyscale/academy/tree/64b5b7d149d1dfd3883948bbde0a247b57fbef0c\n",
        "\n",
        "\n",
        "https://arxiv.org/pdf/1712.09381.pdf\n"
      ]
    },
    {
      "cell_type": "markdown",
      "metadata": {
        "id": "dAIC8z6rW2yB"
      },
      "source": [
        "## Ray and RLLib Overview\n",
        "\n",
        "RLLIb is basically a library with RL algos and other RL features that are specifically designed to work well with RAY.\n",
        "\n",
        "It comes with some RL common algos already implemented for you.\n",
        "\n",
        "Or you can build your own.. similar to GYM’s environment\n",
        "\n",
        "It has of course, integration with GYM, so one can call GYM’s envs and all its features.\n",
        "\n",
        "**List of Algos supported**\n",
        "\n",
        "https://docs.ray.io/en/releases-0.8.6/rllib-algorithms.html\n",
        "\n",
        "**How to Install**\n",
        "\n",
        "https://docs.ray.io/en/releases-0.8.6/installation.html \n"
      ]
    },
    {
      "cell_type": "code",
      "metadata": {
        "id": "NBQfzgs9v3gY"
      },
      "source": [
        "import cv2\n",
        "from google.colab.patches import cv2_imshow\n",
        "import os"
      ],
      "execution_count": 33,
      "outputs": []
    },
    {
      "cell_type": "code",
      "metadata": {
        "colab": {
          "base_uri": "https://localhost:8080/",
          "height": 379
        },
        "id": "vVsUhXuouHgG",
        "outputId": "64368e68-3766-4047-b4e9-9e35c69efce4"
      },
      "source": [
        "!curl -sS https://i.imgur.com/etN9r4z.png> kp.jpg \n",
        "img= cv2.imread(\"kp.jpg\")\n",
        "img= cv2.resize(img, (900,400), interpolation = cv2.INTER_AREA)\n",
        "cv2_imshow(img)"
      ],
      "execution_count": 34,
      "outputs": [
        {
          "output_type": "error",
          "ename": "AttributeError",
          "evalue": "ignored",
          "traceback": [
            "\u001b[0;31m---------------------------------------------------------------------------\u001b[0m",
            "\u001b[0;31mAttributeError\u001b[0m                            Traceback (most recent call last)",
            "\u001b[0;32m<ipython-input-34-0b2cbe3f9211>\u001b[0m in \u001b[0;36m<module>\u001b[0;34m()\u001b[0m\n\u001b[0;32m----> 1\u001b[0;31m \u001b[0mget_ipython\u001b[0m\u001b[0;34m(\u001b[0m\u001b[0;34m)\u001b[0m\u001b[0;34m.\u001b[0m\u001b[0msystem\u001b[0m\u001b[0;34m(\u001b[0m\u001b[0;34m'curl -sS https://i.imgur.com/etN9r4z.png> kp.jpg '\u001b[0m\u001b[0;34m)\u001b[0m\u001b[0;34m\u001b[0m\u001b[0;34m\u001b[0m\u001b[0m\n\u001b[0m\u001b[1;32m      2\u001b[0m \u001b[0mimg\u001b[0m\u001b[0;34m=\u001b[0m \u001b[0mcv2\u001b[0m\u001b[0;34m.\u001b[0m\u001b[0mimread\u001b[0m\u001b[0;34m(\u001b[0m\u001b[0;34m\"kp.jpg\"\u001b[0m\u001b[0;34m)\u001b[0m\u001b[0;34m\u001b[0m\u001b[0;34m\u001b[0m\u001b[0m\n\u001b[1;32m      3\u001b[0m \u001b[0mimg\u001b[0m\u001b[0;34m=\u001b[0m \u001b[0mcv2\u001b[0m\u001b[0;34m.\u001b[0m\u001b[0mresize\u001b[0m\u001b[0;34m(\u001b[0m\u001b[0mimg\u001b[0m\u001b[0;34m,\u001b[0m \u001b[0;34m(\u001b[0m\u001b[0;36m900\u001b[0m\u001b[0;34m,\u001b[0m\u001b[0;36m400\u001b[0m\u001b[0;34m)\u001b[0m\u001b[0;34m,\u001b[0m \u001b[0minterpolation\u001b[0m \u001b[0;34m=\u001b[0m \u001b[0mcv2\u001b[0m\u001b[0;34m.\u001b[0m\u001b[0mINTER_AREA\u001b[0m\u001b[0;34m)\u001b[0m\u001b[0;34m\u001b[0m\u001b[0;34m\u001b[0m\u001b[0m\n\u001b[1;32m      4\u001b[0m \u001b[0mcv2_imshow\u001b[0m\u001b[0;34m(\u001b[0m\u001b[0mimg\u001b[0m\u001b[0;34m)\u001b[0m\u001b[0;34m\u001b[0m\u001b[0;34m\u001b[0m\u001b[0m\n",
            "\u001b[0;32m/usr/local/lib/python3.7/dist-packages/google/colab/_shell.py\u001b[0m in \u001b[0;36msystem\u001b[0;34m(self, *args, **kwargs)\u001b[0m\n\u001b[1;32m    100\u001b[0m       \u001b[0mkwargs\u001b[0m\u001b[0;34m.\u001b[0m\u001b[0mupdate\u001b[0m\u001b[0;34m(\u001b[0m\u001b[0;34m{\u001b[0m\u001b[0;34m'also_return_output'\u001b[0m\u001b[0;34m:\u001b[0m \u001b[0;32mTrue\u001b[0m\u001b[0;34m}\u001b[0m\u001b[0;34m)\u001b[0m\u001b[0;34m\u001b[0m\u001b[0;34m\u001b[0m\u001b[0m\n\u001b[1;32m    101\u001b[0m \u001b[0;34m\u001b[0m\u001b[0m\n\u001b[0;32m--> 102\u001b[0;31m     \u001b[0moutput\u001b[0m \u001b[0;34m=\u001b[0m \u001b[0m_system_commands\u001b[0m\u001b[0;34m.\u001b[0m\u001b[0m_system_compat\u001b[0m\u001b[0;34m(\u001b[0m\u001b[0mself\u001b[0m\u001b[0;34m,\u001b[0m \u001b[0;34m*\u001b[0m\u001b[0margs\u001b[0m\u001b[0;34m,\u001b[0m \u001b[0;34m**\u001b[0m\u001b[0mkwargs\u001b[0m\u001b[0;34m)\u001b[0m  \u001b[0;31m# pylint:disable=protected-access\u001b[0m\u001b[0;34m\u001b[0m\u001b[0;34m\u001b[0m\u001b[0m\n\u001b[0m\u001b[1;32m    103\u001b[0m \u001b[0;34m\u001b[0m\u001b[0m\n\u001b[1;32m    104\u001b[0m     \u001b[0;32mif\u001b[0m \u001b[0mpip_warn\u001b[0m\u001b[0;34m:\u001b[0m\u001b[0;34m\u001b[0m\u001b[0;34m\u001b[0m\u001b[0m\n",
            "\u001b[0;32m/usr/local/lib/python3.7/dist-packages/google/colab/_system_commands.py\u001b[0m in \u001b[0;36m_system_compat\u001b[0;34m(shell, cmd, also_return_output)\u001b[0m\n\u001b[1;32m    445\u001b[0m   \u001b[0;31m# stack.\u001b[0m\u001b[0;34m\u001b[0m\u001b[0;34m\u001b[0m\u001b[0;34m\u001b[0m\u001b[0m\n\u001b[1;32m    446\u001b[0m   result = _run_command(\n\u001b[0;32m--> 447\u001b[0;31m       shell.var_expand(cmd, depth=2), clear_streamed_output=False)\n\u001b[0m\u001b[1;32m    448\u001b[0m   \u001b[0mshell\u001b[0m\u001b[0;34m.\u001b[0m\u001b[0muser_ns\u001b[0m\u001b[0;34m[\u001b[0m\u001b[0;34m'_exit_code'\u001b[0m\u001b[0;34m]\u001b[0m \u001b[0;34m=\u001b[0m \u001b[0mresult\u001b[0m\u001b[0;34m.\u001b[0m\u001b[0mreturncode\u001b[0m\u001b[0;34m\u001b[0m\u001b[0;34m\u001b[0m\u001b[0m\n\u001b[1;32m    449\u001b[0m   \u001b[0;32mif\u001b[0m \u001b[0;34m-\u001b[0m\u001b[0mresult\u001b[0m\u001b[0;34m.\u001b[0m\u001b[0mreturncode\u001b[0m \u001b[0;32min\u001b[0m \u001b[0m_INTERRUPTED_SIGNALS\u001b[0m\u001b[0;34m:\u001b[0m\u001b[0;34m\u001b[0m\u001b[0;34m\u001b[0m\u001b[0m\n",
            "\u001b[0;32m/usr/local/lib/python3.7/dist-packages/google/colab/_system_commands.py\u001b[0m in \u001b[0;36m_run_command\u001b[0;34m(cmd, clear_streamed_output)\u001b[0m\n\u001b[1;32m    183\u001b[0m \u001b[0;34m\u001b[0m\u001b[0m\n\u001b[1;32m    184\u001b[0m     with temporary_clearer(), _display_stdin_widget(\n\u001b[0;32m--> 185\u001b[0;31m         delay_millis=500) as update_stdin_widget:\n\u001b[0m\u001b[1;32m    186\u001b[0m       \u001b[0;31m# TODO(b/115531839): Ensure that subprocesses are terminated upon\u001b[0m\u001b[0;34m\u001b[0m\u001b[0;34m\u001b[0m\u001b[0;34m\u001b[0m\u001b[0m\n\u001b[1;32m    187\u001b[0m       \u001b[0;31m# interrupt.\u001b[0m\u001b[0;34m\u001b[0m\u001b[0;34m\u001b[0m\u001b[0;34m\u001b[0m\u001b[0m\n",
            "\u001b[0;32m/usr/lib/python3.7/contextlib.py\u001b[0m in \u001b[0;36m__enter__\u001b[0;34m(self)\u001b[0m\n\u001b[1;32m    110\u001b[0m         \u001b[0;32mdel\u001b[0m \u001b[0mself\u001b[0m\u001b[0;34m.\u001b[0m\u001b[0margs\u001b[0m\u001b[0;34m,\u001b[0m \u001b[0mself\u001b[0m\u001b[0;34m.\u001b[0m\u001b[0mkwds\u001b[0m\u001b[0;34m,\u001b[0m \u001b[0mself\u001b[0m\u001b[0;34m.\u001b[0m\u001b[0mfunc\u001b[0m\u001b[0;34m\u001b[0m\u001b[0;34m\u001b[0m\u001b[0m\n\u001b[1;32m    111\u001b[0m         \u001b[0;32mtry\u001b[0m\u001b[0;34m:\u001b[0m\u001b[0;34m\u001b[0m\u001b[0;34m\u001b[0m\u001b[0m\n\u001b[0;32m--> 112\u001b[0;31m             \u001b[0;32mreturn\u001b[0m \u001b[0mnext\u001b[0m\u001b[0;34m(\u001b[0m\u001b[0mself\u001b[0m\u001b[0;34m.\u001b[0m\u001b[0mgen\u001b[0m\u001b[0;34m)\u001b[0m\u001b[0;34m\u001b[0m\u001b[0;34m\u001b[0m\u001b[0m\n\u001b[0m\u001b[1;32m    113\u001b[0m         \u001b[0;32mexcept\u001b[0m \u001b[0mStopIteration\u001b[0m\u001b[0;34m:\u001b[0m\u001b[0;34m\u001b[0m\u001b[0;34m\u001b[0m\u001b[0m\n\u001b[1;32m    114\u001b[0m             \u001b[0;32mraise\u001b[0m \u001b[0mRuntimeError\u001b[0m\u001b[0;34m(\u001b[0m\u001b[0;34m\"generator didn't yield\"\u001b[0m\u001b[0;34m)\u001b[0m \u001b[0;32mfrom\u001b[0m \u001b[0;32mNone\u001b[0m\u001b[0;34m\u001b[0m\u001b[0;34m\u001b[0m\u001b[0m\n",
            "\u001b[0;32m/usr/local/lib/python3.7/dist-packages/google/colab/_system_commands.py\u001b[0m in \u001b[0;36m_display_stdin_widget\u001b[0;34m(delay_millis)\u001b[0m\n\u001b[1;32m    347\u001b[0m   \u001b[0mdisplay_args\u001b[0m \u001b[0;34m=\u001b[0m \u001b[0;34m[\u001b[0m\u001b[0;34m'cell_display_stdin'\u001b[0m\u001b[0;34m,\u001b[0m \u001b[0;34m{\u001b[0m\u001b[0;34m'delayMillis'\u001b[0m\u001b[0;34m:\u001b[0m \u001b[0mdelay_millis\u001b[0m\u001b[0;34m}\u001b[0m\u001b[0;34m]\u001b[0m\u001b[0;34m\u001b[0m\u001b[0;34m\u001b[0m\u001b[0m\n\u001b[1;32m    348\u001b[0m   _message.send_request(\n\u001b[0;32m--> 349\u001b[0;31m       *display_args, parent=shell.parent_header, expect_reply=False)\n\u001b[0m\u001b[1;32m    350\u001b[0m \u001b[0;34m\u001b[0m\u001b[0m\n\u001b[1;32m    351\u001b[0m   \u001b[0;32mdef\u001b[0m \u001b[0mecho_updater\u001b[0m\u001b[0;34m(\u001b[0m\u001b[0mnew_echo_status\u001b[0m\u001b[0;34m)\u001b[0m\u001b[0;34m:\u001b[0m\u001b[0;34m\u001b[0m\u001b[0;34m\u001b[0m\u001b[0m\n",
            "\u001b[0;31mAttributeError\u001b[0m: 'NoneType' object has no attribute 'parent_header'"
          ]
        }
      ]
    },
    {
      "cell_type": "code",
      "metadata": {
        "id": "7g14hSaiw2Hu"
      },
      "source": [
        "!curl -sS https://i.imgur.com/jTSW7va.png > kp.jpg \n",
        "img= cv2.imread(\"kp.jpg\")\n",
        "img= cv2.resize(img, (900,300), interpolation = cv2.INTER_AREA)\n",
        "cv2_imshow(img)"
      ],
      "execution_count": null,
      "outputs": []
    },
    {
      "cell_type": "code",
      "metadata": {
        "id": "31bvcvHiw_nH"
      },
      "source": [
        "!curl -sS https://i.imgur.com/bNMNJFd.png > kp.jpg \n",
        "img= cv2.imread(\"kp.jpg\")\n",
        "img= cv2.resize(img, (900,300), interpolation = cv2.INTER_AREA)\n",
        "cv2_imshow(img)"
      ],
      "execution_count": null,
      "outputs": []
    },
    {
      "cell_type": "markdown",
      "metadata": {
        "id": "_Esee3i8yWD7"
      },
      "source": [
        "## Mountain Car with RLLIB - PPO\n",
        "https://medium.com/distributed-computing-with-ray/intro-to-rllib-example-environments-3a113f532c70"
      ]
    },
    {
      "cell_type": "code",
      "metadata": {
        "id": "_-uaV3hPyaKi"
      },
      "source": [
        "!pip install ray[rllib]\n",
        "!pip install 'ray[default]'\n",
        "!pip install gym\n",
        "!pip install tensorflow"
      ],
      "execution_count": null,
      "outputs": []
    },
    {
      "cell_type": "markdown",
      "metadata": {
        "id": "zN_Z2aCqzjBe"
      },
      "source": [
        "Initializing Ray\n",
        "\n",
        "It prints the dashboard running on local port"
      ]
    },
    {
      "cell_type": "code",
      "metadata": {
        "id": "brLrcsmyziAc"
      },
      "source": [
        "import ray\n",
        "import ray.rllib.agents.ppo as ppo\n",
        "\n",
        "ray.shutdown()\n",
        "ray.init(ignore_reinit_error=True)\n"
      ],
      "execution_count": null,
      "outputs": []
    },
    {
      "cell_type": "code",
      "metadata": {
        "id": "YrdTAw4Z1A4x"
      },
      "source": [
        "!curl -sS https://i.imgur.com/VyEW7RX.png> kp.jpg \n",
        "img= cv2.imread(\"kp.jpg\")\n",
        "img= cv2.resize(img, (900,400), interpolation = cv2.INTER_AREA)\n",
        "cv2_imshow(img)"
      ],
      "execution_count": null,
      "outputs": []
    },
    {
      "cell_type": "markdown",
      "metadata": {
        "id": "dwK0Vn391Vsm"
      },
      "source": [
        "Define directory for checkpoints"
      ]
    },
    {
      "cell_type": "code",
      "metadata": {
        "id": "hrXS5GjS1UtO"
      },
      "source": [
        "import shutil\n",
        "\n",
        "CHECKPOINT_ROOT = \"tmp/ppo/cart\"\n",
        "shutil.rmtree(CHECKPOINT_ROOT, ignore_errors=True, onerror=None)\n",
        "\n",
        "ray_results = os.getenv(\"HOME\") + \"/ray_results/\"\n",
        "shutil.rmtree(ray_results, ignore_errors=True, onerror=None)"
      ],
      "execution_count": null,
      "outputs": []
    },
    {
      "cell_type": "markdown",
      "metadata": {
        "id": "Fw_DvFOO7Fpx"
      },
      "source": [
        "### Configuration\n",
        "Train a policy with PPO"
      ]
    },
    {
      "cell_type": "code",
      "metadata": {
        "id": "gG-aYRuO7JEO"
      },
      "source": [
        "# Configuration\n",
        "SELECT_ENV = \"CartPole-v1\"\n",
        "\n",
        "config = ppo.DEFAULT_CONFIG.copy()\n",
        "config[\"log_level\"] = \"WARN\"\n",
        "\n",
        "agent = ppo.PPOTrainer(config, env=SELECT_ENV)"
      ],
      "execution_count": null,
      "outputs": []
    },
    {
      "cell_type": "markdown",
      "metadata": {
        "id": "bEDyuUZa8KDf"
      },
      "source": [
        "### Training\n",
        "Results are saved at: root/ray_results"
      ]
    },
    {
      "cell_type": "code",
      "metadata": {
        "id": "83EuranD75JK"
      },
      "source": [
        "# Training\n",
        "N_ITER = 5  #only 5 iterations to show the idea\n",
        "s = \"{:3d} reward {:6.2f}/{:6.2f}/{:6.2f} len {:6.2f} saved {}\"\n",
        "\n",
        "for n in range(N_ITER):\n",
        "  result = agent.train()\n",
        "  file_name = agent.save(CHECKPOINT_ROOT)\n",
        "\n",
        "  print(s.format(\n",
        "    n + 1,\n",
        "    result[\"episode_reward_min\"],\n",
        "    result[\"episode_reward_mean\"],\n",
        "    result[\"episode_reward_max\"],\n",
        "    result[\"episode_len_mean\"],\n",
        "    file_name\n",
        "   ))"
      ],
      "execution_count": null,
      "outputs": []
    },
    {
      "cell_type": "markdown",
      "metadata": {
        "id": "1Hofaz0-9GOa"
      },
      "source": [
        "### Tensorboard results\n",
        "Note: one can also use WandB"
      ]
    },
    {
      "cell_type": "code",
      "metadata": {
        "id": "HYBnmkXI9J2P"
      },
      "source": [
        "#From command line\n",
        "#tensorboard - logdir=$HOME/ray_results/"
      ],
      "execution_count": null,
      "outputs": []
    },
    {
      "cell_type": "code",
      "metadata": {
        "id": "axHBbrN69v6t"
      },
      "source": [
        "!curl -sS https://i.imgur.com/kySTNnm.png> kp.jpg \n",
        "img= cv2.imread(\"kp.jpg\")\n",
        "img= cv2.resize(img, (900,400), interpolation = cv2.INTER_AREA)\n",
        "cv2_imshow(img)"
      ],
      "execution_count": null,
      "outputs": []
    },
    {
      "cell_type": "markdown",
      "metadata": {
        "id": "GF_ZX0ceW6Xh"
      },
      "source": [
        "## Ray Paralellization\n",
        "RAY basically triggers several ROLLOUTS (i.e. episodes) at the same time (by distributing it to many “WORKERS”) so the whole thing runs faster."
      ]
    },
    {
      "cell_type": "code",
      "metadata": {
        "id": "XBvGCbaFXDdv"
      },
      "source": [
        ""
      ],
      "execution_count": null,
      "outputs": []
    }
  ]
}